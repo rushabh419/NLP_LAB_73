{
 "cells": [
  {
   "cell_type": "code",
   "execution_count": 2,
   "metadata": {},
   "outputs": [
    {
     "ename": "AttributeError",
     "evalue": "'OAuthHandler' object has no attribute 'set_access_tokens'",
     "output_type": "error",
     "traceback": [
      "\u001b[1;31m---------------------------------------------------------------------------\u001b[0m",
      "\u001b[1;31mAttributeError\u001b[0m                            Traceback (most recent call last)",
      "Cell \u001b[1;32mIn[2], line 10\u001b[0m\n\u001b[0;32m      7\u001b[0m access_token_secret \u001b[38;5;241m=\u001b[39m \u001b[38;5;124m\"\u001b[39m\u001b[38;5;124myour_access_token_secret\u001b[39m\u001b[38;5;124m\"\u001b[39m\n\u001b[0;32m      9\u001b[0m auth \u001b[38;5;241m=\u001b[39m tweepy\u001b[38;5;241m.\u001b[39mOAuthHandler(consumer_key, consumer_secret)\n\u001b[1;32m---> 10\u001b[0m \u001b[43mauth\u001b[49m\u001b[38;5;241;43m.\u001b[39;49m\u001b[43mset_access_tokens\u001b[49m(access_token, access_token_secret)\n\u001b[0;32m     12\u001b[0m api \u001b[38;5;241m=\u001b[39m tweepy\u001b[38;5;241m.\u001b[39mAPI(auth)\n\u001b[0;32m     14\u001b[0m \u001b[38;5;66;03m# Search for tweets with a specific hashtag\u001b[39;00m\n",
      "\u001b[1;31mAttributeError\u001b[0m: 'OAuthHandler' object has no attribute 'set_access_tokens'"
     ]
    }
   ],
   "source": [
    "import pandas as pd\n",
    "from sklearn.feature_extraction.text import CountVectorizer\n",
    "from nltk import ngrams\n",
    "\n",
    "# Load dataset from a CSV URL\n",
    "pd.set_option('display.max_colwidth', None)\n",
    "file_url = 'https://archive.org/download/nltk-corpora/tweets.20150430-223406.tweet.tokenized.stemmed.lemmatized.csv'\n",
    "df_initial = pd.read_csv(file_url, usecols=['id', 'text', 'posttoken'], encoding='utf-8')\n",
    "print(df_initial.info())\n",
    "df = df_initial.copy()\n",
    "df.head()"
   ]
  },
  {
   "cell_type": "code",
   "execution_count": null,
   "metadata": {},
   "outputs": [],
   "source": [
    "# Function to generate N-grams as plain text\n",
    "def generate_ngrams(tokens, n):\n",
    "    return list(ngrams(tokens, n))\n",
    "\n",
    "# Process corpus to get tokens and generate N-grams\n",
    "corpus = df['text'].fillna('')  # Replace NaNs with empty strings\n",
    "corpus_tokens = corpus.apply(lambda x: x.split())  # Split text into tokens\n",
    "\n",
    "# Generate unigrams, bigrams, and trigrams\n",
    "df['unigrams'] = corpus_tokens.apply(lambda x: generate_ngrams(x, 1))\n",
    "df['bigrams'] = corpus_tokens.apply(lambda x: generate_ngrams(x, 2))\n",
    "df['trigrams'] = corpus_tokens.apply(lambda x: generate_ngrams(x, 3))\n",
    "\n",
    "# Display results for first 5 rows\n",
    "df[['text', 'unigrams', 'bigrams', 'trigrams']].head()"
   ]
  }
 ],
 "metadata": {
  "kernelspec": {
   "display_name": "Python 3",
   "language": "python",
   "name": "python3"
  },
  "language_info": {
   "codemirror_mode": {
    "name": "ipython",
    "version": 3
   },
   "file_extension": ".py",
   "mimetype": "text/x-python",
   "name": "python",
   "nbconvert_exporter": "python",
   "pygments_lexer": "ipython3",
   "version": "3.11.0"
  }
 },
 "nbformat": 4,
 "nbformat_minor": 2
}
